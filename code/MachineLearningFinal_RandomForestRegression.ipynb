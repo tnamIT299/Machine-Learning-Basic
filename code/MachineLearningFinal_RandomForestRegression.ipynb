{
 "cells": [
  {
   "cell_type": "markdown",
   "metadata": {
    "id": "D19MdRYMAno_"
   },
   "source": [
    "# Import library"
   ]
  },
  {
   "cell_type": "code",
   "execution_count": 1,
   "metadata": {
    "executionInfo": {
     "elapsed": 3548,
     "status": "ok",
     "timestamp": 1732177497027,
     "user": {
      "displayName": "Thành Nam",
      "userId": "15266106228209396543"
     },
     "user_tz": -420
    },
    "id": "HXu4Hp5i0Mld"
   },
   "outputs": [],
   "source": [
    "import pandas as pd\n",
    "from sklearn.model_selection import train_test_split, GridSearchCV\n",
    "from sklearn.ensemble import RandomForestRegressor\n",
    "from sklearn.metrics import mean_absolute_error, mean_squared_error, r2_score\n",
    "from sklearn.preprocessing import LabelEncoder\n",
    "import matplotlib.pyplot as plt\n",
    "import numpy as np\n"
   ]
  },
  {
   "cell_type": "markdown",
   "metadata": {
    "id": "NhZ4oYAXArS_"
   },
   "source": [
    "# Load the dataset"
   ]
  },
  {
   "cell_type": "code",
   "execution_count": 2,
   "metadata": {
    "executionInfo": {
     "elapsed": 8018,
     "status": "ok",
     "timestamp": 1732177505043,
     "user": {
      "displayName": "Thành Nam",
      "userId": "15266106228209396543"
     },
     "user_tz": -420
    },
    "id": "ATIUjVpr0Qf0"
   },
   "outputs": [],
   "source": [
    "\n",
    "file_path = '/content/drive/MyDrive/MachineLearningFinal/melb_data_cleaned.xlsx'\n",
    "df = pd.read_excel(file_path)"
   ]
  },
  {
   "cell_type": "markdown",
   "metadata": {
    "id": "32Y3QsW4As-4"
   },
   "source": [
    "# Data processing"
   ]
  },
  {
   "cell_type": "code",
   "execution_count": 3,
   "metadata": {
    "executionInfo": {
     "elapsed": 11,
     "status": "ok",
     "timestamp": 1732177505043,
     "user": {
      "displayName": "Thành Nam",
      "userId": "15266106228209396543"
     },
     "user_tz": -420
    },
    "id": "B603TRgv0Sqc"
   },
   "outputs": [],
   "source": [
    "# Select features and target variable\n",
    "features = ['Rooms', 'Type', 'Distance', 'Bedroom2', 'Bathroom', 'Car', 'Landsize',\n",
    "            'BuildingArea', 'YearBuilt', 'Regionname', 'Propertycount', 'Method']\n",
    "target = 'Price'"
   ]
  },
  {
   "cell_type": "code",
   "execution_count": 4,
   "metadata": {
    "executionInfo": {
     "elapsed": 11,
     "status": "ok",
     "timestamp": 1732177505044,
     "user": {
      "displayName": "Thành Nam",
      "userId": "15266106228209396543"
     },
     "user_tz": -420
    },
    "id": "vdLhGJTa0UWr"
   },
   "outputs": [],
   "source": [
    "\n",
    "# Drop rows with missing values in the selected features and target\n",
    "df_cleaned = df[features + [target]].dropna()"
   ]
  },
  {
   "cell_type": "code",
   "execution_count": 5,
   "metadata": {
    "executionInfo": {
     "elapsed": 11,
     "status": "ok",
     "timestamp": 1732177505044,
     "user": {
      "displayName": "Thành Nam",
      "userId": "15266106228209396543"
     },
     "user_tz": -420
    },
    "id": "cfPF3_530Vkk"
   },
   "outputs": [],
   "source": [
    "# Encode categorical features\n",
    "label_encoders = {}\n",
    "categorical_features = ['Type', 'Regionname', 'Method']\n",
    "for col in categorical_features:\n",
    "    le = LabelEncoder()\n",
    "    df_cleaned[col] = le.fit_transform(df_cleaned[col])\n",
    "    label_encoders[col] = le"
   ]
  },
  {
   "cell_type": "markdown",
   "metadata": {
    "id": "Rame-MTSAx0H"
   },
   "source": [
    "# Split data into train and test sets"
   ]
  },
  {
   "cell_type": "code",
   "execution_count": 6,
   "metadata": {
    "executionInfo": {
     "elapsed": 11,
     "status": "ok",
     "timestamp": 1732177505044,
     "user": {
      "displayName": "Thành Nam",
      "userId": "15266106228209396543"
     },
     "user_tz": -420
    },
    "id": "_4JsBkFy0Wz0"
   },
   "outputs": [],
   "source": [
    "\n",
    "X = df_cleaned[features]\n",
    "y = df_cleaned[target]\n",
    "X_train, X_test, y_train, y_test = train_test_split(X, y, test_size=0.2, random_state=42)"
   ]
  },
  {
   "cell_type": "markdown",
   "metadata": {
    "id": "7sROLO3CAz1_"
   },
   "source": [
    "# Initialize Random Forest with GridSearchCV for hyperparameter tuning"
   ]
  },
  {
   "cell_type": "code",
   "execution_count": 7,
   "metadata": {
    "colab": {
     "base_uri": "https://localhost:8080/",
     "height": 1000
    },
    "executionInfo": {
     "elapsed": 3015806,
     "status": "ok",
     "timestamp": 1732180520840,
     "user": {
      "displayName": "Thành Nam",
      "userId": "15266106228209396543"
     },
     "user_tz": -420
    },
    "id": "RsZGSwvb0YJz",
    "outputId": "6a0f4634-9bc9-4ab1-e980-04700d4ce613"
   },
   "outputs": [
    {
     "name": "stdout",
     "output_type": "stream",
     "text": [
      "Fitting 3 folds for each of 540 candidates, totalling 1620 fits\n"
     ]
    },
    {
     "name": "stderr",
     "output_type": "stream",
     "text": [
      "/usr/local/lib/python3.10/dist-packages/joblib/externals/loky/process_executor.py:752: UserWarning: A worker stopped while some jobs were given to the executor. This can be caused by a too short worker timeout or by a memory leak.\n",
      "  warnings.warn(\n",
      "/usr/local/lib/python3.10/dist-packages/sklearn/model_selection/_validation.py:540: FitFailedWarning: \n",
      "540 fits failed out of a total of 1620.\n",
      "The score on these train-test partitions for these parameters will be set to nan.\n",
      "If these failures are not expected, you can try to debug them by setting error_score='raise'.\n",
      "\n",
      "Below are more details about the failures:\n",
      "--------------------------------------------------------------------------------\n",
      "216 fits failed with the following error:\n",
      "Traceback (most recent call last):\n",
      "  File \"/usr/local/lib/python3.10/dist-packages/sklearn/model_selection/_validation.py\", line 888, in _fit_and_score\n",
      "    estimator.fit(X_train, y_train, **fit_params)\n",
      "  File \"/usr/local/lib/python3.10/dist-packages/sklearn/base.py\", line 1466, in wrapper\n",
      "    estimator._validate_params()\n",
      "  File \"/usr/local/lib/python3.10/dist-packages/sklearn/base.py\", line 666, in _validate_params\n",
      "    validate_parameter_constraints(\n",
      "  File \"/usr/local/lib/python3.10/dist-packages/sklearn/utils/_param_validation.py\", line 95, in validate_parameter_constraints\n",
      "    raise InvalidParameterError(\n",
      "sklearn.utils._param_validation.InvalidParameterError: The 'max_features' parameter of RandomForestRegressor must be an int in the range [1, inf), a float in the range (0.0, 1.0], a str among {'log2', 'sqrt'} or None. Got 'auto' instead.\n",
      "\n",
      "--------------------------------------------------------------------------------\n",
      "324 fits failed with the following error:\n",
      "Traceback (most recent call last):\n",
      "  File \"/usr/local/lib/python3.10/dist-packages/sklearn/model_selection/_validation.py\", line 888, in _fit_and_score\n",
      "    estimator.fit(X_train, y_train, **fit_params)\n",
      "  File \"/usr/local/lib/python3.10/dist-packages/sklearn/base.py\", line 1466, in wrapper\n",
      "    estimator._validate_params()\n",
      "  File \"/usr/local/lib/python3.10/dist-packages/sklearn/base.py\", line 666, in _validate_params\n",
      "    validate_parameter_constraints(\n",
      "  File \"/usr/local/lib/python3.10/dist-packages/sklearn/utils/_param_validation.py\", line 95, in validate_parameter_constraints\n",
      "    raise InvalidParameterError(\n",
      "sklearn.utils._param_validation.InvalidParameterError: The 'max_features' parameter of RandomForestRegressor must be an int in the range [1, inf), a float in the range (0.0, 1.0], a str among {'sqrt', 'log2'} or None. Got 'auto' instead.\n",
      "\n",
      "  warnings.warn(some_fits_failed_message, FitFailedWarning)\n",
      "/usr/local/lib/python3.10/dist-packages/sklearn/model_selection/_search.py:1103: UserWarning: One or more of the test scores are non-finite: [             nan              nan              nan              nan\n",
      "              nan              nan              nan              nan\n",
      "              nan              nan              nan              nan\n",
      "              nan              nan              nan              nan\n",
      "              nan              nan              nan              nan\n",
      "              nan              nan              nan              nan\n",
      "              nan              nan              nan              nan\n",
      "              nan              nan              nan              nan\n",
      "              nan              nan              nan              nan\n",
      " -191141.84963468 -190907.72115978 -190737.66406167 -190502.17728493\n",
      " -192159.11086761 -191283.18080577 -191255.14028431 -191172.38024884\n",
      " -195254.31199114 -194204.1016228  -194121.71052762 -194187.15830975\n",
      " -193884.85624794 -192320.72416098 -192156.67575722 -192124.24674451\n",
      " -193635.39286839 -192918.60325808 -192547.79439337 -192488.72713502\n",
      " -195798.20560008 -195223.23982243 -194871.74507148 -194948.84968567\n",
      " -197811.69186104 -197905.97282328 -197669.44045291 -197604.4223448\n",
      " -197811.69186104 -197905.97282328 -197669.44045291 -197604.4223448\n",
      " -198989.43576531 -198312.49814283 -197929.20925839 -197893.22450348\n",
      " -191141.84963468 -190907.72115978 -190737.66406167 -190502.17728493\n",
      " -192159.11086761 -191283.18080577 -191255.14028431 -191172.38024884\n",
      " -195254.31199114 -194204.1016228  -194121.71052762 -194187.15830975\n",
      " -193884.85624794 -192320.72416098 -192156.67575722 -192124.24674451\n",
      " -193635.39286839 -192918.60325808 -192547.79439337 -192488.72713502\n",
      " -195798.20560008 -195223.23982243 -194871.74507148 -194948.84968567\n",
      " -197811.69186104 -197905.97282328 -197669.44045291 -197604.4223448\n",
      " -197811.69186104 -197905.97282328 -197669.44045291 -197604.4223448\n",
      " -198989.43576531 -198312.49814283 -197929.20925839 -197893.22450348\n",
      "              nan              nan              nan              nan\n",
      "              nan              nan              nan              nan\n",
      "              nan              nan              nan              nan\n",
      "              nan              nan              nan              nan\n",
      "              nan              nan              nan              nan\n",
      "              nan              nan              nan              nan\n",
      "              nan              nan              nan              nan\n",
      "              nan              nan              nan              nan\n",
      "              nan              nan              nan              nan\n",
      " -213725.66647981 -212904.46899836 -212444.37578672 -212589.45337798\n",
      " -213093.76041221 -212375.60013897 -212435.81556729 -212609.53016987\n",
      " -213828.9786629  -213231.72713388 -213247.62297389 -213262.13124467\n",
      " -213200.30680003 -212377.60181609 -211778.9972002  -212093.89967394\n",
      " -213626.51131239 -212416.39782644 -212252.57873312 -212182.85867118\n",
      " -213998.31517165 -212871.3260558  -212723.18505456 -212840.2515001\n",
      " -214862.56063594 -213817.1464367  -213536.39015367 -213220.8036407\n",
      " -214862.56063594 -213817.1464367  -213536.39015367 -213220.8036407\n",
      " -213739.21331136 -213376.76820815 -212907.39624749 -212813.57197213\n",
      " -213725.66647981 -212904.46899836 -212444.37578672 -212589.45337798\n",
      " -213093.76041221 -212375.60013897 -212435.81556729 -212609.53016987\n",
      " -213828.9786629  -213231.72713388 -213247.62297389 -213262.13124467\n",
      " -213200.30680003 -212377.60181609 -211778.9972002  -212093.89967394\n",
      " -213626.51131239 -212416.39782644 -212252.57873312 -212182.85867118\n",
      " -213998.31517165 -212871.3260558  -212723.18505456 -212840.2515001\n",
      " -214862.56063594 -213817.1464367  -213536.39015367 -213220.8036407\n",
      " -214862.56063594 -213817.1464367  -213536.39015367 -213220.8036407\n",
      " -213739.21331136 -213376.76820815 -212907.39624749 -212813.57197213\n",
      "              nan              nan              nan              nan\n",
      "              nan              nan              nan              nan\n",
      "              nan              nan              nan              nan\n",
      "              nan              nan              nan              nan\n",
      "              nan              nan              nan              nan\n",
      "              nan              nan              nan              nan\n",
      "              nan              nan              nan              nan\n",
      "              nan              nan              nan              nan\n",
      "              nan              nan              nan              nan\n",
      " -192546.86972507 -191528.83548502 -191237.58143316 -190985.37154586\n",
      " -192233.80818016 -191534.08466132 -191637.52596615 -191530.60554803\n",
      " -194957.41599586 -193893.79687176 -193876.52183817 -193882.75964327\n",
      " -193264.68427982 -192381.15002133 -192611.11651803 -192333.75685141\n",
      " -193527.73504381 -192789.84071413 -192515.22662837 -192548.98018421\n",
      " -196232.06566909 -195661.45755183 -195349.14762752 -195035.1067042\n",
      " -198678.96017564 -197998.46508895 -197650.75813309 -197541.29850087\n",
      " -198678.96017564 -197998.46508895 -197650.75813309 -197541.29850087\n",
      " -198819.03062    -198270.51369059 -198040.45072186 -197844.27747914\n",
      " -192546.86972507 -191528.83548502 -191237.58143316 -190985.37154586\n",
      " -192233.80818016 -191534.08466132 -191637.52596615 -191530.60554803\n",
      " -194957.41599586 -193893.79687176 -193876.52183817 -193882.75964327\n",
      " -193264.68427982 -192381.15002133 -192611.11651803 -192333.75685141\n",
      " -193527.73504381 -192789.84071413 -192515.22662837 -192548.98018421\n",
      " -196232.06566909 -195661.45755183 -195349.14762752 -195035.1067042\n",
      " -198678.96017564 -197998.46508895 -197650.75813309 -197541.29850087\n",
      " -198678.96017564 -197998.46508895 -197650.75813309 -197541.29850087\n",
      " -198819.03062    -198270.51369059 -198040.45072186 -197844.27747914\n",
      "              nan              nan              nan              nan\n",
      "              nan              nan              nan              nan\n",
      "              nan              nan              nan              nan\n",
      "              nan              nan              nan              nan\n",
      "              nan              nan              nan              nan\n",
      "              nan              nan              nan              nan\n",
      "              nan              nan              nan              nan\n",
      "              nan              nan              nan              nan\n",
      "              nan              nan              nan              nan\n",
      " -191718.5465658  -190899.67177379 -190706.3179903  -190480.11381047\n",
      " -192233.01003793 -191268.21134065 -191228.66206027 -191072.43837128\n",
      " -195325.78374434 -194212.51392508 -194083.92317941 -194136.01747691\n",
      " -193804.46105321 -192420.22017946 -192257.10471141 -192209.91024283\n",
      " -193602.65746568 -192914.21875669 -192538.41214525 -192465.73911294\n",
      " -195796.74802511 -195264.09293952 -194897.57338195 -194966.64247143\n",
      " -197811.69186104 -197905.97282328 -197669.44045291 -197604.4223448\n",
      " -197811.69186104 -197905.97282328 -197669.44045291 -197604.4223448\n",
      " -198989.43576531 -198312.49814283 -197929.20925839 -197893.22450348\n",
      " -191718.5465658  -190899.67177379 -190706.3179903  -190480.11381047\n",
      " -192233.01003793 -191268.21134065 -191228.66206027 -191072.43837128\n",
      " -195325.78374434 -194212.51392508 -194083.92317941 -194136.01747691\n",
      " -193804.46105321 -192420.22017946 -192257.10471141 -192209.91024283\n",
      " -193602.65746568 -192914.21875669 -192538.41214525 -192465.73911294\n",
      " -195796.74802511 -195264.09293952 -194897.57338195 -194966.64247143\n",
      " -197811.69186104 -197905.97282328 -197669.44045291 -197604.4223448\n",
      " -197811.69186104 -197905.97282328 -197669.44045291 -197604.4223448\n",
      " -198989.43576531 -198312.49814283 -197929.20925839 -197893.22450348\n",
      "              nan              nan              nan              nan\n",
      "              nan              nan              nan              nan\n",
      "              nan              nan              nan              nan\n",
      "              nan              nan              nan              nan\n",
      "              nan              nan              nan              nan\n",
      "              nan              nan              nan              nan\n",
      "              nan              nan              nan              nan\n",
      "              nan              nan              nan              nan\n",
      "              nan              nan              nan              nan\n",
      " -191141.84963468 -190907.72115978 -190737.66406167 -190502.17728493\n",
      " -192159.11086761 -191283.18080577 -191255.14028431 -191172.38024884\n",
      " -195254.31199114 -194204.1016228  -194121.71052762 -194187.15830975\n",
      " -193884.85624794 -192320.72416098 -192156.67575722 -192124.24674451\n",
      " -193635.39286839 -192918.60325808 -192547.79439337 -192488.72713502\n",
      " -195798.20560008 -195223.23982243 -194871.74507148 -194948.84968567\n",
      " -197811.69186104 -197905.97282328 -197669.44045291 -197604.4223448\n",
      " -197811.69186104 -197905.97282328 -197669.44045291 -197604.4223448\n",
      " -198989.43576531 -198312.49814283 -197929.20925839 -197893.22450348\n",
      " -191141.84963468 -190907.72115978 -190737.66406167 -190502.17728493\n",
      " -192159.11086761 -191283.18080577 -191255.14028431 -191172.38024884\n",
      " -195254.31199114 -194204.1016228  -194121.71052762 -194187.15830975\n",
      " -193884.85624794 -192320.72416098 -192156.67575722 -192124.24674451\n",
      " -193635.39286839 -192918.60325808 -192547.79439337 -192488.72713502\n",
      " -195798.20560008 -195223.23982243 -194871.74507148 -194948.84968567\n",
      " -197811.69186104 -197905.97282328 -197669.44045291 -197604.4223448\n",
      " -197811.69186104 -197905.97282328 -197669.44045291 -197604.4223448\n",
      " -198989.43576531 -198312.49814283 -197929.20925839 -197893.22450348]\n",
      "  warnings.warn(\n"
     ]
    },
    {
     "data": {
      "text/html": [
       "<style>#sk-container-id-1 {\n",
       "  /* Definition of color scheme common for light and dark mode */\n",
       "  --sklearn-color-text: black;\n",
       "  --sklearn-color-line: gray;\n",
       "  /* Definition of color scheme for unfitted estimators */\n",
       "  --sklearn-color-unfitted-level-0: #fff5e6;\n",
       "  --sklearn-color-unfitted-level-1: #f6e4d2;\n",
       "  --sklearn-color-unfitted-level-2: #ffe0b3;\n",
       "  --sklearn-color-unfitted-level-3: chocolate;\n",
       "  /* Definition of color scheme for fitted estimators */\n",
       "  --sklearn-color-fitted-level-0: #f0f8ff;\n",
       "  --sklearn-color-fitted-level-1: #d4ebff;\n",
       "  --sklearn-color-fitted-level-2: #b3dbfd;\n",
       "  --sklearn-color-fitted-level-3: cornflowerblue;\n",
       "\n",
       "  /* Specific color for light theme */\n",
       "  --sklearn-color-text-on-default-background: var(--sg-text-color, var(--theme-code-foreground, var(--jp-content-font-color1, black)));\n",
       "  --sklearn-color-background: var(--sg-background-color, var(--theme-background, var(--jp-layout-color0, white)));\n",
       "  --sklearn-color-border-box: var(--sg-text-color, var(--theme-code-foreground, var(--jp-content-font-color1, black)));\n",
       "  --sklearn-color-icon: #696969;\n",
       "\n",
       "  @media (prefers-color-scheme: dark) {\n",
       "    /* Redefinition of color scheme for dark theme */\n",
       "    --sklearn-color-text-on-default-background: var(--sg-text-color, var(--theme-code-foreground, var(--jp-content-font-color1, white)));\n",
       "    --sklearn-color-background: var(--sg-background-color, var(--theme-background, var(--jp-layout-color0, #111)));\n",
       "    --sklearn-color-border-box: var(--sg-text-color, var(--theme-code-foreground, var(--jp-content-font-color1, white)));\n",
       "    --sklearn-color-icon: #878787;\n",
       "  }\n",
       "}\n",
       "\n",
       "#sk-container-id-1 {\n",
       "  color: var(--sklearn-color-text);\n",
       "}\n",
       "\n",
       "#sk-container-id-1 pre {\n",
       "  padding: 0;\n",
       "}\n",
       "\n",
       "#sk-container-id-1 input.sk-hidden--visually {\n",
       "  border: 0;\n",
       "  clip: rect(1px 1px 1px 1px);\n",
       "  clip: rect(1px, 1px, 1px, 1px);\n",
       "  height: 1px;\n",
       "  margin: -1px;\n",
       "  overflow: hidden;\n",
       "  padding: 0;\n",
       "  position: absolute;\n",
       "  width: 1px;\n",
       "}\n",
       "\n",
       "#sk-container-id-1 div.sk-dashed-wrapped {\n",
       "  border: 1px dashed var(--sklearn-color-line);\n",
       "  margin: 0 0.4em 0.5em 0.4em;\n",
       "  box-sizing: border-box;\n",
       "  padding-bottom: 0.4em;\n",
       "  background-color: var(--sklearn-color-background);\n",
       "}\n",
       "\n",
       "#sk-container-id-1 div.sk-container {\n",
       "  /* jupyter's `normalize.less` sets `[hidden] { display: none; }`\n",
       "     but bootstrap.min.css set `[hidden] { display: none !important; }`\n",
       "     so we also need the `!important` here to be able to override the\n",
       "     default hidden behavior on the sphinx rendered scikit-learn.org.\n",
       "     See: https://github.com/scikit-learn/scikit-learn/issues/21755 */\n",
       "  display: inline-block !important;\n",
       "  position: relative;\n",
       "}\n",
       "\n",
       "#sk-container-id-1 div.sk-text-repr-fallback {\n",
       "  display: none;\n",
       "}\n",
       "\n",
       "div.sk-parallel-item,\n",
       "div.sk-serial,\n",
       "div.sk-item {\n",
       "  /* draw centered vertical line to link estimators */\n",
       "  background-image: linear-gradient(var(--sklearn-color-text-on-default-background), var(--sklearn-color-text-on-default-background));\n",
       "  background-size: 2px 100%;\n",
       "  background-repeat: no-repeat;\n",
       "  background-position: center center;\n",
       "}\n",
       "\n",
       "/* Parallel-specific style estimator block */\n",
       "\n",
       "#sk-container-id-1 div.sk-parallel-item::after {\n",
       "  content: \"\";\n",
       "  width: 100%;\n",
       "  border-bottom: 2px solid var(--sklearn-color-text-on-default-background);\n",
       "  flex-grow: 1;\n",
       "}\n",
       "\n",
       "#sk-container-id-1 div.sk-parallel {\n",
       "  display: flex;\n",
       "  align-items: stretch;\n",
       "  justify-content: center;\n",
       "  background-color: var(--sklearn-color-background);\n",
       "  position: relative;\n",
       "}\n",
       "\n",
       "#sk-container-id-1 div.sk-parallel-item {\n",
       "  display: flex;\n",
       "  flex-direction: column;\n",
       "}\n",
       "\n",
       "#sk-container-id-1 div.sk-parallel-item:first-child::after {\n",
       "  align-self: flex-end;\n",
       "  width: 50%;\n",
       "}\n",
       "\n",
       "#sk-container-id-1 div.sk-parallel-item:last-child::after {\n",
       "  align-self: flex-start;\n",
       "  width: 50%;\n",
       "}\n",
       "\n",
       "#sk-container-id-1 div.sk-parallel-item:only-child::after {\n",
       "  width: 0;\n",
       "}\n",
       "\n",
       "/* Serial-specific style estimator block */\n",
       "\n",
       "#sk-container-id-1 div.sk-serial {\n",
       "  display: flex;\n",
       "  flex-direction: column;\n",
       "  align-items: center;\n",
       "  background-color: var(--sklearn-color-background);\n",
       "  padding-right: 1em;\n",
       "  padding-left: 1em;\n",
       "}\n",
       "\n",
       "\n",
       "/* Toggleable style: style used for estimator/Pipeline/ColumnTransformer box that is\n",
       "clickable and can be expanded/collapsed.\n",
       "- Pipeline and ColumnTransformer use this feature and define the default style\n",
       "- Estimators will overwrite some part of the style using the `sk-estimator` class\n",
       "*/\n",
       "\n",
       "/* Pipeline and ColumnTransformer style (default) */\n",
       "\n",
       "#sk-container-id-1 div.sk-toggleable {\n",
       "  /* Default theme specific background. It is overwritten whether we have a\n",
       "  specific estimator or a Pipeline/ColumnTransformer */\n",
       "  background-color: var(--sklearn-color-background);\n",
       "}\n",
       "\n",
       "/* Toggleable label */\n",
       "#sk-container-id-1 label.sk-toggleable__label {\n",
       "  cursor: pointer;\n",
       "  display: block;\n",
       "  width: 100%;\n",
       "  margin-bottom: 0;\n",
       "  padding: 0.5em;\n",
       "  box-sizing: border-box;\n",
       "  text-align: center;\n",
       "}\n",
       "\n",
       "#sk-container-id-1 label.sk-toggleable__label-arrow:before {\n",
       "  /* Arrow on the left of the label */\n",
       "  content: \"▸\";\n",
       "  float: left;\n",
       "  margin-right: 0.25em;\n",
       "  color: var(--sklearn-color-icon);\n",
       "}\n",
       "\n",
       "#sk-container-id-1 label.sk-toggleable__label-arrow:hover:before {\n",
       "  color: var(--sklearn-color-text);\n",
       "}\n",
       "\n",
       "/* Toggleable content - dropdown */\n",
       "\n",
       "#sk-container-id-1 div.sk-toggleable__content {\n",
       "  max-height: 0;\n",
       "  max-width: 0;\n",
       "  overflow: hidden;\n",
       "  text-align: left;\n",
       "  /* unfitted */\n",
       "  background-color: var(--sklearn-color-unfitted-level-0);\n",
       "}\n",
       "\n",
       "#sk-container-id-1 div.sk-toggleable__content.fitted {\n",
       "  /* fitted */\n",
       "  background-color: var(--sklearn-color-fitted-level-0);\n",
       "}\n",
       "\n",
       "#sk-container-id-1 div.sk-toggleable__content pre {\n",
       "  margin: 0.2em;\n",
       "  border-radius: 0.25em;\n",
       "  color: var(--sklearn-color-text);\n",
       "  /* unfitted */\n",
       "  background-color: var(--sklearn-color-unfitted-level-0);\n",
       "}\n",
       "\n",
       "#sk-container-id-1 div.sk-toggleable__content.fitted pre {\n",
       "  /* unfitted */\n",
       "  background-color: var(--sklearn-color-fitted-level-0);\n",
       "}\n",
       "\n",
       "#sk-container-id-1 input.sk-toggleable__control:checked~div.sk-toggleable__content {\n",
       "  /* Expand drop-down */\n",
       "  max-height: 200px;\n",
       "  max-width: 100%;\n",
       "  overflow: auto;\n",
       "}\n",
       "\n",
       "#sk-container-id-1 input.sk-toggleable__control:checked~label.sk-toggleable__label-arrow:before {\n",
       "  content: \"▾\";\n",
       "}\n",
       "\n",
       "/* Pipeline/ColumnTransformer-specific style */\n",
       "\n",
       "#sk-container-id-1 div.sk-label input.sk-toggleable__control:checked~label.sk-toggleable__label {\n",
       "  color: var(--sklearn-color-text);\n",
       "  background-color: var(--sklearn-color-unfitted-level-2);\n",
       "}\n",
       "\n",
       "#sk-container-id-1 div.sk-label.fitted input.sk-toggleable__control:checked~label.sk-toggleable__label {\n",
       "  background-color: var(--sklearn-color-fitted-level-2);\n",
       "}\n",
       "\n",
       "/* Estimator-specific style */\n",
       "\n",
       "/* Colorize estimator box */\n",
       "#sk-container-id-1 div.sk-estimator input.sk-toggleable__control:checked~label.sk-toggleable__label {\n",
       "  /* unfitted */\n",
       "  background-color: var(--sklearn-color-unfitted-level-2);\n",
       "}\n",
       "\n",
       "#sk-container-id-1 div.sk-estimator.fitted input.sk-toggleable__control:checked~label.sk-toggleable__label {\n",
       "  /* fitted */\n",
       "  background-color: var(--sklearn-color-fitted-level-2);\n",
       "}\n",
       "\n",
       "#sk-container-id-1 div.sk-label label.sk-toggleable__label,\n",
       "#sk-container-id-1 div.sk-label label {\n",
       "  /* The background is the default theme color */\n",
       "  color: var(--sklearn-color-text-on-default-background);\n",
       "}\n",
       "\n",
       "/* On hover, darken the color of the background */\n",
       "#sk-container-id-1 div.sk-label:hover label.sk-toggleable__label {\n",
       "  color: var(--sklearn-color-text);\n",
       "  background-color: var(--sklearn-color-unfitted-level-2);\n",
       "}\n",
       "\n",
       "/* Label box, darken color on hover, fitted */\n",
       "#sk-container-id-1 div.sk-label.fitted:hover label.sk-toggleable__label.fitted {\n",
       "  color: var(--sklearn-color-text);\n",
       "  background-color: var(--sklearn-color-fitted-level-2);\n",
       "}\n",
       "\n",
       "/* Estimator label */\n",
       "\n",
       "#sk-container-id-1 div.sk-label label {\n",
       "  font-family: monospace;\n",
       "  font-weight: bold;\n",
       "  display: inline-block;\n",
       "  line-height: 1.2em;\n",
       "}\n",
       "\n",
       "#sk-container-id-1 div.sk-label-container {\n",
       "  text-align: center;\n",
       "}\n",
       "\n",
       "/* Estimator-specific */\n",
       "#sk-container-id-1 div.sk-estimator {\n",
       "  font-family: monospace;\n",
       "  border: 1px dotted var(--sklearn-color-border-box);\n",
       "  border-radius: 0.25em;\n",
       "  box-sizing: border-box;\n",
       "  margin-bottom: 0.5em;\n",
       "  /* unfitted */\n",
       "  background-color: var(--sklearn-color-unfitted-level-0);\n",
       "}\n",
       "\n",
       "#sk-container-id-1 div.sk-estimator.fitted {\n",
       "  /* fitted */\n",
       "  background-color: var(--sklearn-color-fitted-level-0);\n",
       "}\n",
       "\n",
       "/* on hover */\n",
       "#sk-container-id-1 div.sk-estimator:hover {\n",
       "  /* unfitted */\n",
       "  background-color: var(--sklearn-color-unfitted-level-2);\n",
       "}\n",
       "\n",
       "#sk-container-id-1 div.sk-estimator.fitted:hover {\n",
       "  /* fitted */\n",
       "  background-color: var(--sklearn-color-fitted-level-2);\n",
       "}\n",
       "\n",
       "/* Specification for estimator info (e.g. \"i\" and \"?\") */\n",
       "\n",
       "/* Common style for \"i\" and \"?\" */\n",
       "\n",
       ".sk-estimator-doc-link,\n",
       "a:link.sk-estimator-doc-link,\n",
       "a:visited.sk-estimator-doc-link {\n",
       "  float: right;\n",
       "  font-size: smaller;\n",
       "  line-height: 1em;\n",
       "  font-family: monospace;\n",
       "  background-color: var(--sklearn-color-background);\n",
       "  border-radius: 1em;\n",
       "  height: 1em;\n",
       "  width: 1em;\n",
       "  text-decoration: none !important;\n",
       "  margin-left: 1ex;\n",
       "  /* unfitted */\n",
       "  border: var(--sklearn-color-unfitted-level-1) 1pt solid;\n",
       "  color: var(--sklearn-color-unfitted-level-1);\n",
       "}\n",
       "\n",
       ".sk-estimator-doc-link.fitted,\n",
       "a:link.sk-estimator-doc-link.fitted,\n",
       "a:visited.sk-estimator-doc-link.fitted {\n",
       "  /* fitted */\n",
       "  border: var(--sklearn-color-fitted-level-1) 1pt solid;\n",
       "  color: var(--sklearn-color-fitted-level-1);\n",
       "}\n",
       "\n",
       "/* On hover */\n",
       "div.sk-estimator:hover .sk-estimator-doc-link:hover,\n",
       ".sk-estimator-doc-link:hover,\n",
       "div.sk-label-container:hover .sk-estimator-doc-link:hover,\n",
       ".sk-estimator-doc-link:hover {\n",
       "  /* unfitted */\n",
       "  background-color: var(--sklearn-color-unfitted-level-3);\n",
       "  color: var(--sklearn-color-background);\n",
       "  text-decoration: none;\n",
       "}\n",
       "\n",
       "div.sk-estimator.fitted:hover .sk-estimator-doc-link.fitted:hover,\n",
       ".sk-estimator-doc-link.fitted:hover,\n",
       "div.sk-label-container:hover .sk-estimator-doc-link.fitted:hover,\n",
       ".sk-estimator-doc-link.fitted:hover {\n",
       "  /* fitted */\n",
       "  background-color: var(--sklearn-color-fitted-level-3);\n",
       "  color: var(--sklearn-color-background);\n",
       "  text-decoration: none;\n",
       "}\n",
       "\n",
       "/* Span, style for the box shown on hovering the info icon */\n",
       ".sk-estimator-doc-link span {\n",
       "  display: none;\n",
       "  z-index: 9999;\n",
       "  position: relative;\n",
       "  font-weight: normal;\n",
       "  right: .2ex;\n",
       "  padding: .5ex;\n",
       "  margin: .5ex;\n",
       "  width: min-content;\n",
       "  min-width: 20ex;\n",
       "  max-width: 50ex;\n",
       "  color: var(--sklearn-color-text);\n",
       "  box-shadow: 2pt 2pt 4pt #999;\n",
       "  /* unfitted */\n",
       "  background: var(--sklearn-color-unfitted-level-0);\n",
       "  border: .5pt solid var(--sklearn-color-unfitted-level-3);\n",
       "}\n",
       "\n",
       ".sk-estimator-doc-link.fitted span {\n",
       "  /* fitted */\n",
       "  background: var(--sklearn-color-fitted-level-0);\n",
       "  border: var(--sklearn-color-fitted-level-3);\n",
       "}\n",
       "\n",
       ".sk-estimator-doc-link:hover span {\n",
       "  display: block;\n",
       "}\n",
       "\n",
       "/* \"?\"-specific style due to the `<a>` HTML tag */\n",
       "\n",
       "#sk-container-id-1 a.estimator_doc_link {\n",
       "  float: right;\n",
       "  font-size: 1rem;\n",
       "  line-height: 1em;\n",
       "  font-family: monospace;\n",
       "  background-color: var(--sklearn-color-background);\n",
       "  border-radius: 1rem;\n",
       "  height: 1rem;\n",
       "  width: 1rem;\n",
       "  text-decoration: none;\n",
       "  /* unfitted */\n",
       "  color: var(--sklearn-color-unfitted-level-1);\n",
       "  border: var(--sklearn-color-unfitted-level-1) 1pt solid;\n",
       "}\n",
       "\n",
       "#sk-container-id-1 a.estimator_doc_link.fitted {\n",
       "  /* fitted */\n",
       "  border: var(--sklearn-color-fitted-level-1) 1pt solid;\n",
       "  color: var(--sklearn-color-fitted-level-1);\n",
       "}\n",
       "\n",
       "/* On hover */\n",
       "#sk-container-id-1 a.estimator_doc_link:hover {\n",
       "  /* unfitted */\n",
       "  background-color: var(--sklearn-color-unfitted-level-3);\n",
       "  color: var(--sklearn-color-background);\n",
       "  text-decoration: none;\n",
       "}\n",
       "\n",
       "#sk-container-id-1 a.estimator_doc_link.fitted:hover {\n",
       "  /* fitted */\n",
       "  background-color: var(--sklearn-color-fitted-level-3);\n",
       "}\n",
       "</style><div id=\"sk-container-id-1\" class=\"sk-top-container\"><div class=\"sk-text-repr-fallback\"><pre>GridSearchCV(cv=3, estimator=RandomForestRegressor(random_state=42), n_jobs=-1,\n",
       "             param_grid={&#x27;max_depth&#x27;: [None, 10, 20, 30, 50],\n",
       "                         &#x27;max_features&#x27;: [&#x27;auto&#x27;, &#x27;sqrt&#x27;, &#x27;log2&#x27;],\n",
       "                         &#x27;min_samples_leaf&#x27;: [1, 2, 4],\n",
       "                         &#x27;min_samples_split&#x27;: [2, 5, 10],\n",
       "                         &#x27;n_estimators&#x27;: [100, 200, 300, 500]},\n",
       "             scoring=&#x27;neg_mean_absolute_error&#x27;, verbose=1)</pre><b>In a Jupyter environment, please rerun this cell to show the HTML representation or trust the notebook. <br />On GitHub, the HTML representation is unable to render, please try loading this page with nbviewer.org.</b></div><div class=\"sk-container\" hidden><div class=\"sk-item sk-dashed-wrapped\"><div class=\"sk-label-container\"><div class=\"sk-label fitted sk-toggleable\"><input class=\"sk-toggleable__control sk-hidden--visually\" id=\"sk-estimator-id-1\" type=\"checkbox\" ><label for=\"sk-estimator-id-1\" class=\"sk-toggleable__label fitted sk-toggleable__label-arrow fitted\">&nbsp;&nbsp;GridSearchCV<a class=\"sk-estimator-doc-link fitted\" rel=\"noreferrer\" target=\"_blank\" href=\"https://scikit-learn.org/1.5/modules/generated/sklearn.model_selection.GridSearchCV.html\">?<span>Documentation for GridSearchCV</span></a><span class=\"sk-estimator-doc-link fitted\">i<span>Fitted</span></span></label><div class=\"sk-toggleable__content fitted\"><pre>GridSearchCV(cv=3, estimator=RandomForestRegressor(random_state=42), n_jobs=-1,\n",
       "             param_grid={&#x27;max_depth&#x27;: [None, 10, 20, 30, 50],\n",
       "                         &#x27;max_features&#x27;: [&#x27;auto&#x27;, &#x27;sqrt&#x27;, &#x27;log2&#x27;],\n",
       "                         &#x27;min_samples_leaf&#x27;: [1, 2, 4],\n",
       "                         &#x27;min_samples_split&#x27;: [2, 5, 10],\n",
       "                         &#x27;n_estimators&#x27;: [100, 200, 300, 500]},\n",
       "             scoring=&#x27;neg_mean_absolute_error&#x27;, verbose=1)</pre></div> </div></div><div class=\"sk-parallel\"><div class=\"sk-parallel-item\"><div class=\"sk-item\"><div class=\"sk-label-container\"><div class=\"sk-label fitted sk-toggleable\"><input class=\"sk-toggleable__control sk-hidden--visually\" id=\"sk-estimator-id-2\" type=\"checkbox\" ><label for=\"sk-estimator-id-2\" class=\"sk-toggleable__label fitted sk-toggleable__label-arrow fitted\">best_estimator_: RandomForestRegressor</label><div class=\"sk-toggleable__content fitted\"><pre>RandomForestRegressor(max_depth=30, max_features=&#x27;sqrt&#x27;, n_estimators=500,\n",
       "                      random_state=42)</pre></div> </div></div><div class=\"sk-serial\"><div class=\"sk-item\"><div class=\"sk-estimator fitted sk-toggleable\"><input class=\"sk-toggleable__control sk-hidden--visually\" id=\"sk-estimator-id-3\" type=\"checkbox\" ><label for=\"sk-estimator-id-3\" class=\"sk-toggleable__label fitted sk-toggleable__label-arrow fitted\">&nbsp;RandomForestRegressor<a class=\"sk-estimator-doc-link fitted\" rel=\"noreferrer\" target=\"_blank\" href=\"https://scikit-learn.org/1.5/modules/generated/sklearn.ensemble.RandomForestRegressor.html\">?<span>Documentation for RandomForestRegressor</span></a></label><div class=\"sk-toggleable__content fitted\"><pre>RandomForestRegressor(max_depth=30, max_features=&#x27;sqrt&#x27;, n_estimators=500,\n",
       "                      random_state=42)</pre></div> </div></div></div></div></div></div></div></div></div>"
      ],
      "text/plain": [
       "GridSearchCV(cv=3, estimator=RandomForestRegressor(random_state=42), n_jobs=-1,\n",
       "             param_grid={'max_depth': [None, 10, 20, 30, 50],\n",
       "                         'max_features': ['auto', 'sqrt', 'log2'],\n",
       "                         'min_samples_leaf': [1, 2, 4],\n",
       "                         'min_samples_split': [2, 5, 10],\n",
       "                         'n_estimators': [100, 200, 300, 500]},\n",
       "             scoring='neg_mean_absolute_error', verbose=1)"
      ]
     },
     "execution_count": 7,
     "metadata": {},
     "output_type": "execute_result"
    }
   ],
   "source": [
    "\n",
    "param_grid = {\n",
    "    'n_estimators': [100, 200, 300, 500],\n",
    "    'max_depth': [None, 10, 20, 30, 50],\n",
    "    'min_samples_split': [2, 5, 10],\n",
    "    'min_samples_leaf': [1, 2, 4],\n",
    "    'max_features': ['auto', 'sqrt', 'log2']\n",
    "}\n",
    "\n",
    "rf = RandomForestRegressor(random_state=42)\n",
    "grid_search = GridSearchCV(estimator=rf, param_grid=param_grid, cv=3, n_jobs=-1, scoring='neg_mean_absolute_error', verbose=1)\n",
    "grid_search.fit(X_train, y_train)"
   ]
  },
  {
   "cell_type": "code",
   "execution_count": 8,
   "metadata": {
    "executionInfo": {
     "elapsed": 4,
     "status": "ok",
     "timestamp": 1732180520840,
     "user": {
      "displayName": "Thành Nam",
      "userId": "15266106228209396543"
     },
     "user_tz": -420
    },
    "id": "Si4yoTS-0ZiM"
   },
   "outputs": [],
   "source": [
    "\n",
    "# Best model from GridSearch\n",
    "best_model = grid_search.best_estimator_"
   ]
  },
  {
   "cell_type": "code",
   "execution_count": 9,
   "metadata": {
    "executionInfo": {
     "elapsed": 783,
     "status": "ok",
     "timestamp": 1732180521620,
     "user": {
      "displayName": "Thành Nam",
      "userId": "15266106228209396543"
     },
     "user_tz": -420
    },
    "id": "87n_hoYp0awU"
   },
   "outputs": [],
   "source": [
    "# Predict on test set\n",
    "y_pred = best_model.predict(X_test)"
   ]
  },
  {
   "cell_type": "markdown",
   "metadata": {
    "id": "faZ88pAjA5gQ"
   },
   "source": [
    "# Evaluate the model"
   ]
  },
  {
   "cell_type": "code",
   "execution_count": 10,
   "metadata": {
    "executionInfo": {
     "elapsed": 12,
     "status": "ok",
     "timestamp": 1732180521620,
     "user": {
      "displayName": "Thành Nam",
      "userId": "15266106228209396543"
     },
     "user_tz": -420
    },
    "id": "MFxT9bKK0cVE"
   },
   "outputs": [],
   "source": [
    "# Model evaluation metrics\n",
    "mae = mean_absolute_error(y_test, y_pred)\n",
    "mse = mean_squared_error(y_test, y_pred)\n",
    "rmse = np.sqrt(mse)\n",
    "r2 = r2_score(y_test, y_pred)"
   ]
  },
  {
   "cell_type": "code",
   "execution_count": 11,
   "metadata": {
    "colab": {
     "base_uri": "https://localhost:8080/"
    },
    "executionInfo": {
     "elapsed": 13,
     "status": "ok",
     "timestamp": 1732180521621,
     "user": {
      "displayName": "Thành Nam",
      "userId": "15266106228209396543"
     },
     "user_tz": -420
    },
    "id": "kO85psVZ0jFE",
    "outputId": "8d3db9aa-7107-4520-b61a-114d82d1b20d"
   },
   "outputs": [
    {
     "name": "stdout",
     "output_type": "stream",
     "text": [
      "Evaluation Metrics:\n",
      "{'Mean Absolute Error (MAE)': 183320.36806518227, 'Mean Squared Error (MSE)': 92486985561.82382, 'Root Mean Squared Error (RMSE)': 304116.73015772057, 'R-squared (R2)': 0.7750698267036524, 'Best Parameters': {'max_depth': 30, 'max_features': 'sqrt', 'min_samples_leaf': 1, 'min_samples_split': 2, 'n_estimators': 500}}\n"
     ]
    }
   ],
   "source": [
    "# Display evaluation metrics\n",
    "evaluation_metrics = {\n",
    "    \"Mean Absolute Error (MAE)\": mae,\n",
    "    \"Mean Squared Error (MSE)\": mse,\n",
    "    \"Root Mean Squared Error (RMSE)\": rmse,\n",
    "    \"R-squared (R2)\": r2,\n",
    "    \"Best Parameters\": grid_search.best_params_\n",
    "}\n",
    "print(\"Evaluation Metrics:\")\n",
    "print(evaluation_metrics)"
   ]
  },
  {
   "cell_type": "code",
   "execution_count": 12,
   "metadata": {
    "executionInfo": {
     "elapsed": 6,
     "status": "ok",
     "timestamp": 1732180521621,
     "user": {
      "displayName": "Thành Nam",
      "userId": "15266106228209396543"
     },
     "user_tz": -420
    },
    "id": "UXhUEPPO0d1c"
   },
   "outputs": [],
   "source": [
    "# Feature importance\n",
    "importances = best_model.feature_importances_\n",
    "indices = np.argsort(importances)[::-1]\n",
    "feature_names = [features[i] for i in indices]"
   ]
  },
  {
   "cell_type": "code",
   "execution_count": 13,
   "metadata": {
    "colab": {
     "base_uri": "https://localhost:8080/",
     "height": 629
    },
    "executionInfo": {
     "elapsed": 723,
     "status": "ok",
     "timestamp": 1732180522339,
     "user": {
      "displayName": "Thành Nam",
      "userId": "15266106228209396543"
     },
     "user_tz": -420
    },
    "id": "_xd86sJw0fTj",
    "outputId": "d63e4d6c-3fc6-48f4-e3bd-1004e84866fa"
   },
   "outputs": [
    {
     "data": {
      "image/png": "[encoded data removed]",
      "text/plain": [
       "<Figure size 1000x600 with 1 Axes>"
      ]
     },
     "metadata": {},
     "output_type": "display_data"
    }
   ],
   "source": [
    "# Visualization of Feature Importance\n",
    "plt.figure(figsize=(10, 6))\n",
    "plt.bar(range(len(importances)), importances[indices], align=\"center\")\n",
    "plt.xticks(range(len(importances)), feature_names, rotation=90)\n",
    "plt.title(\"Feature Importance\")\n",
    "plt.show()"
   ]
  },
  {
   "cell_type": "code",
   "execution_count": 14,
   "metadata": {
    "colab": {
     "base_uri": "https://localhost:8080/",
     "height": 564
    },
    "executionInfo": {
     "elapsed": 571,
     "status": "ok",
     "timestamp": 1732180522897,
     "user": {
      "displayName": "Thành Nam",
      "userId": "15266106228209396543"
     },
     "user_tz": -420
    },
    "id": "d-e20Eqv0g8U",
    "outputId": "ab5f1761-7e8c-4112-9a00-90062cc10ae7"
   },
   "outputs": [
    {
     "data": {
      "image/png": "[encoded data removed]",
      "text/plain": [
       "<Figure size 1000x600 with 1 Axes>"
      ]
     },
     "metadata": {},
     "output_type": "display_data"
    }
   ],
   "source": [
    "# Predicted vs Actual Plot\n",
    "plt.figure(figsize=(10, 6))\n",
    "plt.scatter(y_test, y_pred, alpha=0.5)\n",
    "plt.plot([min(y_test), max(y_test)], [min(y_test), max(y_test)], color='red', linestyle='--')\n",
    "plt.xlabel('Actual Prices')\n",
    "plt.ylabel('Predicted Prices')\n",
    "plt.title('Actual vs Predicted Prices')\n",
    "plt.show()"
   ]
  },
  {
   "cell_type": "markdown",
   "metadata": {
    "id": "VTTvVEapBC0G"
   },
   "source": [
    "# Predict sample"
   ]
  },
  {
   "cell_type": "code",
   "execution_count": 15,
   "metadata": {
    "colab": {
     "base_uri": "https://localhost:8080/"
    },
    "executionInfo": {
     "elapsed": 27,
     "status": "ok",
     "timestamp": 1732180522897,
     "user": {
      "displayName": "Thành Nam",
      "userId": "15266106228209396543"
     },
     "user_tz": -420
    },
    "id": "qAgFUoWa0q9E",
    "outputId": "0513602d-a3d2-4898-d016-32cf64fa0fec"
   },
   "outputs": [
    {
     "name": "stdout",
     "output_type": "stream",
     "text": [
      "Sample predictions for 5 houses:\n",
      "      Rooms  Distance  Bedroom2  Bathroom  Car  Landsize  BuildingArea  \\\n",
      "993       4      13.1         4         4    4       707           162   \n",
      "8832      2       5.3         2         1    1      2338          1482   \n",
      "5324      2       2.6         2         1    0       108            72   \n",
      "9079      3      10.1         3         2    2       602           180   \n",
      "1491      4      11.8         4         2    2       744           300   \n",
      "\n",
      "      YearBuilt  Propertycount  Actual_Price  Predicted_Price  \n",
      "993        1926           4605       1670000     2.104078e+06  \n",
      "8832       1965          11308        450000     5.700565e+05  \n",
      "5324       1900          14949       1035000     9.971080e+05  \n",
      "9079       1970           7822       1570000     1.615757e+06  \n",
      "1491       1985           4480       1300000     1.346712e+06  \n"
     ]
    }
   ],
   "source": [
    "# Take 5 random houses from the test set\n",
    "sample_data = X_test.sample(5, random_state=42)\n",
    "sample_data['Actual_Price'] = y_test.loc[sample_data.index]\n",
    "sample_data['Predicted_Price'] = best_model.predict(sample_data.drop(columns=['Actual_Price']))\n",
    "\n",
    "# Display sample data\n",
    "sample_display = sample_data[['Rooms', 'Distance', 'Bedroom2', 'Bathroom', 'Car',\n",
    "                               'Landsize', 'BuildingArea', 'YearBuilt', 'Propertycount',\n",
    "                               'Actual_Price', 'Predicted_Price']]\n",
    "print(\"Sample predictions for 5 houses:\")\n",
    "print(sample_display)\n"
   ]
  }
 ],
 "metadata": {
  "colab": {
   "authorship_tag": "ABX9TyNzmlwFUuGK5G3q26qBMXKI",
   "mount_file_id": "1nAn7w0CMSh7Vgha_MOfkSyC1UDS2F6bl",
   "provenance": []
  },
  "kernelspec": {
   "display_name": "Python 3",
   "name": "python3"
  },
  "language_info": {
   "name": "python"
  }
 },
 "nbformat": 4,
 "nbformat_minor": 0
}
